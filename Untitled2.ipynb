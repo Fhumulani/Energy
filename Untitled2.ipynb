{
 "cells": [
  {
   "cell_type": "code",
   "execution_count": 1,
   "metadata": {
    "collapsed": true
   },
   "outputs": [],
   "source": [
    "import pandas as pd\n",
    "import matplotlib.pyplot as plt\n",
    "%matplotlib inline\n",
    "import matplotlib as mat"
   ]
  },
  {
   "cell_type": "code",
   "execution_count": 106,
   "metadata": {
    "collapsed": false
   },
   "outputs": [
    {
     "data": {
      "text/plain": [
       "'0.17.1'"
      ]
     },
     "execution_count": 106,
     "metadata": {},
     "output_type": "execute_result"
    }
   ],
   "source": [
    "pd.__version__"
   ]
  },
  {
   "cell_type": "code",
   "execution_count": 111,
   "metadata": {
    "collapsed": true
   },
   "outputs": [],
   "source": [
    "data = pd.read_csv(\"energy.csv\")"
   ]
  },
  {
   "cell_type": "code",
   "execution_count": 112,
   "metadata": {
    "collapsed": false
   },
   "outputs": [
    {
     "name": "stderr",
     "output_type": "stream",
     "text": [
      "/usr/local/lib/python2.7/dist-packages/ipykernel_launcher.py:1: FutureWarning: sort(columns=....) is deprecated, use sort_values(by=.....)\n",
      "  \"\"\"Entry point for launching an IPython kernel.\n"
     ]
    }
   ],
   "source": [
    "data = data.sort(columns=['Energy'], ascending=False)"
   ]
  },
  {
   "cell_type": "code",
   "execution_count": 113,
   "metadata": {
    "collapsed": false
   },
   "outputs": [],
   "source": [
    "data.Date = data.Date.apply(lambda x: x.replace(\" \",\"\"))"
   ]
  },
  {
   "cell_type": "code",
   "execution_count": 86,
   "metadata": {
    "collapsed": false
   },
   "outputs": [
    {
     "data": {
      "text/html": [
       "<div>\n",
       "<table border=\"1\" class=\"dataframe\">\n",
       "  <thead>\n",
       "    <tr style=\"text-align: right;\">\n",
       "      <th></th>\n",
       "      <th>Particle</th>\n",
       "      <th>Energy</th>\n",
       "      <th>Source</th>\n",
       "      <th>Destination</th>\n",
       "      <th>Date</th>\n",
       "      <th>Nitro</th>\n",
       "    </tr>\n",
       "  </thead>\n",
       "  <tbody>\n",
       "    <tr>\n",
       "      <th>571</th>\n",
       "      <td>Xe</td>\n",
       "      <td>790</td>\n",
       "      <td>SPC2</td>\n",
       "      <td>F-line</td>\n",
       "      <td>1997-05</td>\n",
       "      <td>1</td>\n",
       "    </tr>\n",
       "    <tr>\n",
       "      <th>572</th>\n",
       "      <td>Xe</td>\n",
       "      <td>750</td>\n",
       "      <td>SPC2</td>\n",
       "      <td>F-line</td>\n",
       "      <td>1997-04</td>\n",
       "      <td>1</td>\n",
       "    </tr>\n",
       "    <tr>\n",
       "      <th>208</th>\n",
       "      <td>Xe</td>\n",
       "      <td>750</td>\n",
       "      <td>SPC2</td>\n",
       "      <td>F-line</td>\n",
       "      <td>2010-10</td>\n",
       "      <td>1</td>\n",
       "    </tr>\n",
       "    <tr>\n",
       "      <th>430</th>\n",
       "      <td>Xe</td>\n",
       "      <td>750</td>\n",
       "      <td>SPC2</td>\n",
       "      <td>F-line</td>\n",
       "      <td>2002-05</td>\n",
       "      <td>1</td>\n",
       "    </tr>\n",
       "    <tr>\n",
       "      <th>417</th>\n",
       "      <td>Xe</td>\n",
       "      <td>750</td>\n",
       "      <td>SPC2</td>\n",
       "      <td>F-line</td>\n",
       "      <td>2002-10</td>\n",
       "      <td>1</td>\n",
       "    </tr>\n",
       "  </tbody>\n",
       "</table>\n",
       "</div>"
      ],
      "text/plain": [
       "    Particle  Energy Source Destination     Date  Nitro\n",
       "571       Xe     790   SPC2      F-line  1997-05      1\n",
       "572       Xe     750   SPC2      F-line  1997-04      1\n",
       "208       Xe     750   SPC2      F-line  2010-10      1\n",
       "430       Xe     750   SPC2      F-line  2002-05      1\n",
       "417       Xe     750   SPC2      F-line  2002-10      1"
      ]
     },
     "execution_count": 86,
     "metadata": {},
     "output_type": "execute_result"
    }
   ],
   "source": [
    "data.head()"
   ]
  },
  {
   "cell_type": "code",
   "execution_count": 5,
   "metadata": {
    "collapsed": false
   },
   "outputs": [
    {
     "data": {
      "text/plain": [
       "[<matplotlib.lines.Line2D at 0x7efc340d7410>]"
      ]
     },
     "execution_count": 5,
     "metadata": {},
     "output_type": "execute_result"
    },
    {
     "data": {
      "image/png": "[encoded data removed]",
      "text/plain": [
       "<Figure size 432x288 with 1 Axes>"
      ]
     },
     "metadata": {
      "needs_background": "light"
     },
     "output_type": "display_data"
    }
   ],
   "source": [
    "plt.plot(range(len(data)),data.Energy,\"o\")"
   ]
  },
  {
   "cell_type": "code",
   "execution_count": 6,
   "metadata": {
    "collapsed": true
   },
   "outputs": [],
   "source": [
    "data['Nitro'] = data['Particle'].apply(lambda x: 1 if \"Xe\" in x else 0)"
   ]
  },
  {
   "cell_type": "code",
   "execution_count": 7,
   "metadata": {
    "collapsed": true
   },
   "outputs": [],
   "source": [
    "Xe = data[data.Nitro == 1]"
   ]
  },
  {
   "cell_type": "code",
   "execution_count": 8,
   "metadata": {
    "collapsed": false
   },
   "outputs": [],
   "source": [
    "Xe = Xe.iloc[::-1]"
   ]
  },
  {
   "cell_type": "code",
   "execution_count": 9,
   "metadata": {
    "collapsed": false
   },
   "outputs": [
    {
     "name": "stderr",
     "output_type": "stream",
     "text": [
      "/usr/lib/python2.7/dist-packages/pandas/core/indexing.py:117: SettingWithCopyWarning: \n",
      "A value is trying to be set on a copy of a slice from a DataFrame\n",
      "\n",
      "See the caveats in the documentation: http://pandas.pydata.org/pandas-docs/stable/indexing.html#indexing-view-versus-copy\n",
      "  self._setitem_with_indexer(indexer, value)\n"
     ]
    }
   ],
   "source": [
    "for i in range(len(Xe.Particle)):\n",
    "    Xe.Particle.iloc[i] = Xe.Particle.iloc[i]+\"_\"+str(i)"
   ]
  },
  {
   "cell_type": "code",
   "execution_count": 11,
   "metadata": {
    "collapsed": false
   },
   "outputs": [
    {
     "data": {
      "text/plain": [
       "([0, 1, 2, 3, 4, 5, 6, 7, 8, 9, 10, 11, 12, 13],\n",
       " <a list of 14 Text xticklabel objects>)"
      ]
     },
     "execution_count": 11,
     "metadata": {},
     "output_type": "execute_result"
    },
    {
     "data": {
      "image/png": "[encoded data removed]",
      "text/plain": [
       "<Figure size 720x504 with 2 Axes>"
      ]
     },
     "metadata": {
      "needs_background": "light"
     },
     "output_type": "display_data"
    }
   ],
   "source": [
    "plt.figure(figsize=(10,7))\n",
    "plt.rc('xtick.major', size=5, pad=7)\n",
    "plt.rc('xtick', labelsize=10)\n",
    "plt.rc('font', weight='bold')\n",
    "ax = plt.plot(Xe.Date,Xe.Energy,\"r*\",markersize=12)\n",
    "plt.xticks(rotation=45)\n",
    "ax2 = plt.gca().twiny()\n",
    "ax2.plot(Xe.Particle,Xe.Energy,\"w*\",markersize=0)\n",
    "plt.xticks(rotation=75)"
   ]
  },
  {
   "cell_type": "code",
   "execution_count": 102,
   "metadata": {
    "collapsed": false
   },
   "outputs": [
    {
     "data": {
      "text/plain": [
       "list"
      ]
     },
     "execution_count": 102,
     "metadata": {},
     "output_type": "execute_result"
    }
   ],
   "source": [
    "type(ax)"
   ]
  },
  {
   "cell_type": "code",
   "execution_count": 118,
   "metadata": {
    "collapsed": false
   },
   "outputs": [],
   "source": [
    "unique = data.drop_duplicates(subset=\"Particle\")\n",
    "van = data[data.Particle == \"V\"]"
   ]
  },
  {
   "cell_type": "code",
   "execution_count": 119,
   "metadata": {
    "collapsed": false
   },
   "outputs": [
    {
     "data": {
      "text/plain": [
       "0"
      ]
     },
     "execution_count": 119,
     "metadata": {},
     "output_type": "execute_result"
    }
   ],
   "source": [
    "len(van)"
   ]
  },
  {
   "cell_type": "code",
   "execution_count": 120,
   "metadata": {
    "collapsed": false
   },
   "outputs": [
    {
     "data": {
      "text/plain": [
       "([0, 1, 2, 3, 4, 5, 6, 7, 8, 9, 10, 11],\n",
       " <a list of 12 Text xticklabel objects>)"
      ]
     },
     "execution_count": 120,
     "metadata": {},
     "output_type": "execute_result"
    },
    {
     "data": {
      "image/png": "[encoded data removed]",
      "text/plain": [
       "<Figure size 1080x504 with 2 Axes>"
      ]
     },
     "metadata": {
      "needs_background": "light"
     },
     "output_type": "display_data"
    }
   ],
   "source": [
    "plt.figure(figsize=(15,7))\n",
    "plt.xticks(rotation=75)\n",
    "plt.ylabel(\"Energy [MeV]\",fontsize=18)\n",
    "plt.xlabel(\"Particle Specie\",fontsize=18)\n",
    "ax = plt.plot(unique.Particle,unique.Energy,\"r*\",markersize=12)\n",
    "ax2 = plt.gca().twiny()\n",
    "ax2.plot(Xe.Date,Xe.Energy,\"w*\",markersize=0)\n",
    "plt.xticks(rotation=75)"
   ]
  },
  {
   "cell_type": "code",
   "execution_count": 122,
   "metadata": {
    "collapsed": false
   },
   "outputs": [
    {
     "data": {
      "text/plain": [
       "34"
      ]
     },
     "execution_count": 122,
     "metadata": {},
     "output_type": "execute_result"
    }
   ],
   "source": [
    "len(unique.Date)"
   ]
  },
  {
   "cell_type": "code",
   "execution_count": 60,
   "metadata": {
    "collapsed": false
   },
   "outputs": [],
   "source": [
    "special = [1,2,3,4,5,6,7,8,9,'+']"
   ]
  },
  {
   "cell_type": "code",
   "execution_count": 116,
   "metadata": {
    "collapsed": false
   },
   "outputs": [],
   "source": [
    "for i in range(len(data.Particle)):\n",
    "    left = data.Particle.iloc[i][:3]\n",
    "    right = data.Particle.iloc[i][3:]\n",
    "    for j in range(0,len(special)):\n",
    "        if str(special[j]) in right:\n",
    "            right = right.replace(str(special[j]),\"\")\n",
    "    data.Particle.iloc[i] = left + right\n",
    "        "
   ]
  },
  {
   "cell_type": "code",
   "execution_count": 117,
   "metadata": {
    "collapsed": false
   },
   "outputs": [
    {
     "data": {
      "text/plain": [
       "571    129Xe\n",
       "452    136Xe\n",
       "208    136Xe\n",
       "430    136Xe\n",
       "417    136Xe\n",
       "454    136Xe\n",
       "572    136Xe\n",
       "400    136Xe\n",
       "397    136Xe\n",
       "570    136Xe\n",
       "569    136Xe\n",
       "435    136Xe\n",
       "204    136Xe\n",
       "496     127I\n",
       "471     127I\n",
       "474     127I\n",
       "573     84Kr\n",
       "16     132Xe\n",
       "293     86Kr\n",
       "290     86Kr\n",
       "226      16O\n",
       "587     84Kr\n",
       "361     86Kr\n",
       "367     86Kr\n",
       "366     86Kr\n",
       "559     86Kr\n",
       "368     86Kr\n",
       "492      12C\n",
       "590      16O\n",
       "490      12C\n",
       "       ...  \n",
       "22         p\n",
       "201      4He\n",
       "130      4He\n",
       "168      4He\n",
       "171      4He\n",
       "151      4He\n",
       "154      4He\n",
       "147      He1\n",
       "149      3He\n",
       "150      3He\n",
       "98       3He\n",
       "100      3He\n",
       "129      3He\n",
       "391      4He\n",
       "390      4He\n",
       "126      3He\n",
       "123      3He\n",
       "185      3He\n",
       "353        p\n",
       "356        p\n",
       "352        p\n",
       "398        p\n",
       "416        p\n",
       "110      2H1\n",
       "411        p\n",
       "142      2H1\n",
       "396        p\n",
       "395        p\n",
       "410        p\n",
       "97       2H1\n",
       "Name: Particle, dtype: object"
      ]
     },
     "execution_count": 117,
     "metadata": {},
     "output_type": "execute_result"
    }
   ],
   "source": [
    "data.Particle"
   ]
  },
  {
   "cell_type": "code",
   "execution_count": 66,
   "metadata": {
    "collapsed": false
   },
   "outputs": [
    {
     "data": {
      "image/png": "[encoded data removed]",
      "text/plain": [
       "<Figure size 432x288 with 1 Axes>"
      ]
     },
     "metadata": {
      "needs_background": "light"
     },
     "output_type": "display_data"
    }
   ],
   "source": [
    "y = [2.56422, 3.77284, 3.52623, 3.51468, 3.02199]\n",
    "z = [0.15, 0.3, 0.45, 0.6, 0.75]\n",
    "n = [58, 651, 393, 203, 123]\n",
    "\n",
    "fig, ax = plt.subplots()\n",
    "ax.scatter(z, y)\n",
    "\n",
    "for i, txt in enumerate(n):\n",
    "    ax.annotate(txt, (z[i], y[i]))"
   ]
  },
  {
   "cell_type": "code",
   "execution_count": null,
   "metadata": {
    "collapsed": true
   },
   "outputs": [],
   "source": []
  }
 ],
 "metadata": {
  "kernelspec": {
   "display_name": "Python 2",
   "language": "python",
   "name": "python2"
  },
  "language_info": {
   "codemirror_mode": {
    "name": "ipython",
    "version": 2
   },
   "file_extension": ".py",
   "mimetype": "text/x-python",
   "name": "python",
   "nbconvert_exporter": "python",
   "pygments_lexer": "ipython2",
   "version": "2.7.12"
  }
 },
 "nbformat": 4,
 "nbformat_minor": 0
}
